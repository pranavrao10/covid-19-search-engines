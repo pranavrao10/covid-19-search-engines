{
 "cells": [
  {
   "cell_type": "code",
   "execution_count": 1,
   "id": "ce9432e7-1438-419c-8c54-b8dc5eb4434f",
   "metadata": {},
   "outputs": [
    {
     "name": "stdout",
     "output_type": "stream",
     "text": [
      "Index(['doc_id', 'cleaned_text'], dtype='object')\n",
      "     doc_id                                       cleaned_text\n",
      "0  ug7v899j  clinical features of culture-proven mycoplasma...\n",
      "1  02tnwd4m  nitric oxide: a pro-inflammatory mediator in l...\n",
      "2  ejv2xln0  surfactant protein-d and pulmonary host defens...\n",
      "3  2b73a28n  role of endothelin-1 in lung disease endotheli...\n",
      "4  9785vg6d  gene expression in epithelial cells in respons...\n"
     ]
    }
   ],
   "source": [
    "import pandas as pd\n",
    "\n",
    "# Load JSON file\n",
    "df = pd.read_json(\"Downloads/trec_covid_preprocessed_minimal.json\")\n",
    "\n",
    "# Display basic info\n",
    "print(df.columns)\n",
    "print(df.head())"
   ]
  },
  {
   "cell_type": "code",
   "execution_count": 5,
   "id": "f1343473-85fd-4a9f-a7a8-254d12803ca2",
   "metadata": {},
   "outputs": [
    {
     "name": "stderr",
     "output_type": "stream",
     "text": [
      "[nltk_data] Downloading package punkt to /Users/aksha/nltk_data...\n",
      "[nltk_data]   Package punkt is already up-to-date!\n"
     ]
    }
   ],
   "source": [
    "import nltk\n",
    "from nltk.tokenize import word_tokenize\n",
    "from rank_bm25 import BM25Okapi\n",
    "\n",
    "nltk.download('punkt')\n",
    "\n",
    "# Tokenize documents (assuming already lowercased)\n",
    "tokenized_corpus = [word_tokenize(doc) for doc in df['cleaned_text']]"
   ]
  },
  {
   "cell_type": "code",
   "execution_count": 7,
   "id": "c35dd1a8-001c-49ca-b655-f0aa8bb2689c",
   "metadata": {},
   "outputs": [],
   "source": [
    "bm25 = BM25Okapi(tokenized_corpus)"
   ]
  },
  {
   "cell_type": "code",
   "execution_count": 9,
   "id": "e989bb5a-5727-42db-b858-d79603e248f9",
   "metadata": {},
   "outputs": [
    {
     "name": "stdout",
     "output_type": "stream",
     "text": [
      " BM25 Search Tool (type 'exit' to quit)\n",
      "\n"
     ]
    },
    {
     "name": "stdin",
     "output_type": "stream",
     "text": [
      "Enter your search query:  effectiveness of face masks against covid\n"
     ]
    },
    {
     "name": "stdout",
     "output_type": "stream",
     "text": [
      "\n",
      "📄 Top 5 Relevant Documents:\n",
      "\n",
      "Doc ID: tcijnphu\n",
      "Score: 28.7860\n",
      "Snippet: effectiveness of cloth masks for protection against severe acute respiratory syndrome coronavirus 2 cloth masks have been used in healthcare and community settings to protect the wearer from respiratory infections. the use of cloth masks during the coronavirus disease (covid-19) pandemic is under de...\n",
      "\n",
      "Doc ID: xtraspw2\n",
      "Score: 28.7860\n",
      "Snippet: effectiveness of cloth masks for protection against severe acute respiratory syndrome coronavirus 2. cloth masks have been used in healthcare and community settings to protect the wearer from respiratory infections. the use of cloth masks during the coronavirus disease (covid-19) pandemic is under d...\n",
      "\n",
      "Doc ID: ycduncjb\n",
      "Score: 28.3707\n",
      "Snippet: disrupting the transmission of influenza a: face masks and ultraviolet light as control measures. in the event of an influenza pandemic, where effective vaccine and antiviral drugs may be lacking, disrupting environmental transmission of the influenza virus will be the only viable strategy to protec...\n",
      "\n",
      "Doc ID: btj4ckkz\n",
      "Score: 28.3237\n",
      "Snippet: assessment the protection performance of different level personal respiratory protection masks against viral aerosol new viral disease such as sars and h1n1 highlighted the vulnerability of healthcare workers to aerosol-transmitted viral infections. this paper was to assess the protection performanc...\n",
      "\n",
      "Doc ID: 397m2zpp\n",
      "Score: 28.1527\n",
      "Snippet: assessment of a respiratory face mask for capturing air pollutants and pathogens including human influenza and rhinoviruses. background prevention of infection with airborne pathogens and exposure to airborne particulates and aerosols (environmental pollutants and allergens) can be facilitated throu...\n",
      "\n",
      "––––––––––––––––––––––––––––––––––––––\n",
      "\n"
     ]
    },
    {
     "name": "stdin",
     "output_type": "stream",
     "text": [
      "Enter your search query:  symptoms of covid\n"
     ]
    },
    {
     "name": "stdout",
     "output_type": "stream",
     "text": [
      "\n",
      "📄 Top 5 Relevant Documents:\n",
      "\n",
      "Doc ID: u54kja4g\n",
      "Score: 19.5744\n",
      "Snippet: determinants of self-reported symptoms and testing for covid-19 in canada using a nationally representative survey in april 2020, a nationally representative sample of 4, 240 canadians age 18 years and older were polled about covid experience in march, early in the epidemic. we examined determinants...\n",
      "\n",
      "Doc ID: bzs8qag4\n",
      "Score: 18.1416\n",
      "Snippet: informed consent for emergency obstetric care during covid-19 pandemic informed consent process has become a challenging issue before surgery for any emergency obstetric care during this covid pandemic. there is an increased risk of morbidity if there is a need of intensive care unit postoperatively...\n",
      "\n",
      "Doc ID: avm9lzjq\n",
      "Score: 17.6554\n",
      "Snippet: atypical covid -19 presentation in patient undergoing staged taaa repair this report outlines a case of atypical presentation of covid 19 viral infection. a 65-year old male was planned for a two staged repair of a crawford type 3 thoracoabdominal aortic aneurysm. the first stage, tevar in descendin...\n",
      "\n",
      "Doc ID: rzommy5p\n",
      "Score: 17.2926\n",
      "Snippet: anosmia - a review: in the context of covid 19/orofacial pain abstract background anosmia/hyposmia is a relatively rare sensory disorder that could indicate an underlying more serious cause. in the context of the current covid 19 pandemic, this could be one of the red flags for the dental practition...\n",
      "\n",
      "Doc ID: 381qi4jk\n",
      "Score: 17.0353\n",
      "Snippet: pulmonary embolism: a complication of covid 19 infection the coronavirus disease 2019 (covid 19) has been reported in almost every country in the world. although a large proportion of infected individuals develop only mild symptoms or are asymptomatic, the spectrum of the disease among others has be...\n",
      "\n",
      "––––––––––––––––––––––––––––––––––––––\n",
      "\n"
     ]
    },
    {
     "name": "stdin",
     "output_type": "stream",
     "text": [
      "Enter your search query:  exit\n"
     ]
    },
    {
     "name": "stdout",
     "output_type": "stream",
     "text": [
      "Exiting...\n"
     ]
    }
   ],
   "source": [
    "# Interactive terminal loop\n",
    "print(\" BM25 Search Tool (type 'exit' to quit)\\n\")\n",
    "\n",
    "while True:\n",
    "    query = input(\"Enter your search query: \")\n",
    "    if query.lower() == \"exit\":\n",
    "        print(\"Exiting...\")\n",
    "        break\n",
    "\n",
    "    tokenized_query = word_tokenize(query.lower())\n",
    "    scores = bm25.get_scores(tokenized_query)\n",
    "\n",
    "    # Get top 5 results\n",
    "    import numpy as np\n",
    "    top_n = np.argsort(scores)[::-1][:5]\n",
    "\n",
    "    print(\"\\n Top 5 Relevant Documents:\\n\")\n",
    "    for idx in top_n:\n",
    "        print(f\"Doc ID: {df.iloc[idx]['doc_id']}\")\n",
    "        print(f\"Score: {scores[idx]:.4f}\")\n",
    "        print(f\"Snippet: {df.iloc[idx]['cleaned_text'][:300]}...\\n\")\n",
    "    print(\"––––––––––––––––––––––––––––––––––––––\\n\")"
   ]
  },
  {
   "cell_type": "code",
   "execution_count": null,
   "id": "232769ec-aa20-42a8-bbfd-8c25bf4f11f7",
   "metadata": {},
   "outputs": [],
   "source": []
  }
 ],
 "metadata": {
  "kernelspec": {
   "display_name": "Python 3 (ipykernel)",
   "language": "python",
   "name": "python3"
  },
  "language_info": {
   "codemirror_mode": {
    "name": "ipython",
    "version": 3
   },
   "file_extension": ".py",
   "mimetype": "text/x-python",
   "name": "python",
   "nbconvert_exporter": "python",
   "pygments_lexer": "ipython3",
   "version": "3.12.4"
  }
 },
 "nbformat": 4,
 "nbformat_minor": 5
}
