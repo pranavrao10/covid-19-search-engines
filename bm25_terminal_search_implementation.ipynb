{
 "cells": [
  {
   "cell_type": "code",
   "execution_count": 1,
   "id": "ce9432e7-1438-419c-8c54-b8dc5eb4434f",
   "metadata": {},
   "outputs": [],
   "source": [
    "from rank_bm25 import BM25Okapi\n",
    "import json\n",
    "import pandas as pd\n",
    "\n",
    "bm25_docs = []\n",
    "doc_metadata = []\n",
    "with open('preprocessed_cord19.jsonl') as f:\n",
    "    for line in f:\n",
    "        doc = json.loads(line)\n",
    "        bm25_docs.append(doc['bm25']['combined'].split())  \n",
    "        doc_metadata.append({\n",
    "            'doc_id': doc['doc_id'],\n",
    "            'biobert_text': doc['biobert']['combined'],\n",
    "            'original_title': doc['original_title']\n",
    "        })\n",
    "\n",
    "bm25 = BM25Okapi(bm25_docs) "
   ]
  },
  {
   "cell_type": "code",
   "execution_count": null,
   "id": "a1ba87ca",
   "metadata": {},
   "outputs": [
    {
     "data": {
      "application/vnd.jupyter.widget-view+json": {
       "model_id": "07fdd68b6c4b4c12a8d13bcf82df7aa5",
       "version_major": 2,
       "version_minor": 0
      },
      "text/plain": [
       "tokenizer_config.json:   0%|          | 0.00/51.0 [00:00<?, ?B/s]"
      ]
     },
     "metadata": {},
     "output_type": "display_data"
    },
    {
     "data": {
      "application/vnd.jupyter.widget-view+json": {
       "model_id": "0413d74ec0aa4af3a7ff2d9fdc82cbc1",
       "version_major": 2,
       "version_minor": 0
      },
      "text/plain": [
       "config.json:   0%|          | 0.00/433 [00:00<?, ?B/s]"
      ]
     },
     "metadata": {},
     "output_type": "display_data"
    },
    {
     "data": {
      "application/vnd.jupyter.widget-view+json": {
       "model_id": "e66fed7713e644f18fb1aaf9183c495b",
       "version_major": 2,
       "version_minor": 0
      },
      "text/plain": [
       "vocab.txt:   0%|          | 0.00/213k [00:00<?, ?B/s]"
      ]
     },
     "metadata": {},
     "output_type": "display_data"
    },
    {
     "data": {
      "application/vnd.jupyter.widget-view+json": {
       "model_id": "ac2d1f45d37542ce9257ce9300f87d0b",
       "version_major": 2,
       "version_minor": 0
      },
      "text/plain": [
       "special_tokens_map.json:   0%|          | 0.00/112 [00:00<?, ?B/s]"
      ]
     },
     "metadata": {},
     "output_type": "display_data"
    },
    {
     "data": {
      "application/vnd.jupyter.widget-view+json": {
       "model_id": "f6d48d01b0b24e3d9f297a2f198e464f",
       "version_major": 2,
       "version_minor": 0
      },
      "text/plain": [
       "model.safetensors:   0%|          | 0.00/436M [00:00<?, ?B/s]"
      ]
     },
     "metadata": {},
     "output_type": "display_data"
    }
   ],
   "source": [
    "from transformers import AutoTokenizer, AutoModel\n",
    "import torch\n",
    "import numpy as np\n",
    "from sklearn.preprocessing import normalize\n",
    "\n",
    "device = \"mps\" if torch.backends.mps.is_available() else \"cuda\" if torch.cuda.is_available() else \"cpu\"\n",
    "print(f\"Using device: {device.upper()}\")\n",
    "\n",
    "tokenizer = AutoTokenizer.from_pretrained(\"monologg/biobert_v1.1_pubmed\")\n",
    "model = AutoModel.from_pretrained(\"monologg/biobert_v1.1_pubmed\").to(device)\n",
    "\n",
    "def get_embeddings(texts, batch_size=8):\n",
    "    embeddings = []\n",
    "    for i in range(0, len(texts), batch_size):\n",
    "        batch = texts[i:i+batch_size]\n",
    "        inputs = tokenizer(\n",
    "            batch, \n",
    "            padding=True, \n",
    "            truncation=True, \n",
    "            max_length=512, \n",
    "            return_tensors=\"pt\"\n",
    "        ).to(model.device)\n",
    "        \n",
    "        with torch.no_grad():\n",
    "            outputs = model(**inputs)\n",
    "        \n",
    "        embeddings.append(outputs.last_hidden_state[:,0,:].cpu().numpy())\n",
    "    \n",
    "    return normalize(np.concatenate(embeddings), axis=1)\n",
    "\n",
    "def hybrid_search(query, top_k=5, first_stage_n=100):\n",
    "    tokenized_query = query.lower().split()  \n",
    "    doc_scores = bm25.get_scores(tokenized_query)\n",
    "    top_indices = np.argsort(doc_scores)[-first_stage_n:][::-1]\n",
    "    \n",
    "    biobert_texts = [doc_metadata[idx]['biobert_text'] for idx in top_indices]\n",
    "    query_input = tokenizer(\n",
    "        query, \n",
    "        padding=True, \n",
    "        truncation=True, \n",
    "        max_length=512, \n",
    "        return_tensors=\"pt\"\n",
    "    ).to(model.device)\n",
    "    \n",
    "    with torch.no_grad():\n",
    "        query_embed = model(**query_input).last_hidden_state[:,0,:].cpu().numpy()\n",
    "    \n",
    "    doc_embeds = get_embeddings(biobert_texts)\n",
    "    biobert_scores = np.dot(query_embed, doc_embeds.T).flatten()\n",
    "    \n",
    "    combined_scores = 0.7*doc_scores[top_indices] + 0.3*biobert_scores\n",
    "    final_indices = top_indices[np.argsort(combined_scores)[::-1][:top_k]]\n",
    "    \n",
    "    return final_indices"
   ]
  },
  {
   "cell_type": "code",
   "execution_count": 9,
   "id": "e989bb5a-5727-42db-b858-d79603e248f9",
   "metadata": {},
   "outputs": [
    {
     "name": "stdout",
     "output_type": "stream",
     "text": [
      " BM25 Search Tool (type 'exit' to quit)\n",
      "\n"
     ]
    },
    {
     "name": "stdout",
     "output_type": "stream",
     "text": [
      "Enter your search query:  effectiveness of face masks against covid\n"
     ]
    },
    {
     "name": "stdout",
     "output_type": "stream",
     "text": [
      "\n",
      "📄 Top 5 Relevant Documents:\n",
      "\n",
      "Doc ID: tcijnphu\n",
      "Score: 28.7860\n",
      "Snippet: effectiveness of cloth masks for protection against severe acute respiratory syndrome coronavirus 2 cloth masks have been used in healthcare and community settings to protect the wearer from respiratory infections. the use of cloth masks during the coronavirus disease (covid-19) pandemic is under de...\n",
      "\n",
      "Doc ID: xtraspw2\n",
      "Score: 28.7860\n",
      "Snippet: effectiveness of cloth masks for protection against severe acute respiratory syndrome coronavirus 2. cloth masks have been used in healthcare and community settings to protect the wearer from respiratory infections. the use of cloth masks during the coronavirus disease (covid-19) pandemic is under d...\n",
      "\n",
      "Doc ID: ycduncjb\n",
      "Score: 28.3707\n",
      "Snippet: disrupting the transmission of influenza a: face masks and ultraviolet light as control measures. in the event of an influenza pandemic, where effective vaccine and antiviral drugs may be lacking, disrupting environmental transmission of the influenza virus will be the only viable strategy to protec...\n",
      "\n",
      "Doc ID: btj4ckkz\n",
      "Score: 28.3237\n",
      "Snippet: assessment the protection performance of different level personal respiratory protection masks against viral aerosol new viral disease such as sars and h1n1 highlighted the vulnerability of healthcare workers to aerosol-transmitted viral infections. this paper was to assess the protection performanc...\n",
      "\n",
      "Doc ID: 397m2zpp\n",
      "Score: 28.1527\n",
      "Snippet: assessment of a respiratory face mask for capturing air pollutants and pathogens including human influenza and rhinoviruses. background prevention of infection with airborne pathogens and exposure to airborne particulates and aerosols (environmental pollutants and allergens) can be facilitated throu...\n",
      "\n",
      "––––––––––––––––––––––––––––––––––––––\n",
      "\n"
     ]
    },
    {
     "name": "stdout",
     "output_type": "stream",
     "text": [
      "Enter your search query:  symptoms of covid\n"
     ]
    },
    {
     "name": "stdout",
     "output_type": "stream",
     "text": [
      "\n",
      "📄 Top 5 Relevant Documents:\n",
      "\n",
      "Doc ID: u54kja4g\n",
      "Score: 19.5744\n",
      "Snippet: determinants of self-reported symptoms and testing for covid-19 in canada using a nationally representative survey in april 2020, a nationally representative sample of 4, 240 canadians age 18 years and older were polled about covid experience in march, early in the epidemic. we examined determinants...\n",
      "\n",
      "Doc ID: bzs8qag4\n",
      "Score: 18.1416\n",
      "Snippet: informed consent for emergency obstetric care during covid-19 pandemic informed consent process has become a challenging issue before surgery for any emergency obstetric care during this covid pandemic. there is an increased risk of morbidity if there is a need of intensive care unit postoperatively...\n",
      "\n",
      "Doc ID: avm9lzjq\n",
      "Score: 17.6554\n",
      "Snippet: atypical covid -19 presentation in patient undergoing staged taaa repair this report outlines a case of atypical presentation of covid 19 viral infection. a 65-year old male was planned for a two staged repair of a crawford type 3 thoracoabdominal aortic aneurysm. the first stage, tevar in descendin...\n",
      "\n",
      "Doc ID: rzommy5p\n",
      "Score: 17.2926\n",
      "Snippet: anosmia - a review: in the context of covid 19/orofacial pain abstract background anosmia/hyposmia is a relatively rare sensory disorder that could indicate an underlying more serious cause. in the context of the current covid 19 pandemic, this could be one of the red flags for the dental practition...\n",
      "\n",
      "Doc ID: 381qi4jk\n",
      "Score: 17.0353\n",
      "Snippet: pulmonary embolism: a complication of covid 19 infection the coronavirus disease 2019 (covid 19) has been reported in almost every country in the world. although a large proportion of infected individuals develop only mild symptoms or are asymptomatic, the spectrum of the disease among others has be...\n",
      "\n",
      "––––––––––––––––––––––––––––––––––––––\n",
      "\n"
     ]
    },
    {
     "name": "stdout",
     "output_type": "stream",
     "text": [
      "Enter your search query:  exit\n"
     ]
    },
    {
     "name": "stdout",
     "output_type": "stream",
     "text": [
      "Exiting...\n"
     ]
    }
   ],
   "source": [
    "# Interactive terminal loop\n",
    "print(\" BM25 Search Tool (type 'exit' to quit)\\n\")\n",
    "\n",
    "while True:\n",
    "    query = input(\"Enter your search query: \")\n",
    "    if query.lower() == \"exit\":\n",
    "        print(\"Exiting...\")\n",
    "        break\n",
    "\n",
    "    tokenized_query = word_tokenize(query.lower())\n",
    "    scores = bm25.get_scores(tokenized_query)\n",
    "\n",
    "    # Get top 5 results\n",
    "    import numpy as np\n",
    "    top_n = np.argsort(scores)[::-1][:5]\n",
    "\n",
    "    print(\"\\n Top 5 Relevant Documents:\\n\")\n",
    "    for idx in top_n:\n",
    "        print(f\"Doc ID: {df.iloc[idx]['doc_id']}\")\n",
    "        print(f\"Score: {scores[idx]:.4f}\")\n",
    "        print(f\"Snippet: {df.iloc[idx]['cleaned_text'][:300]}...\\n\")\n",
    "    print(\"––––––––––––––––––––––––––––––––––––––\\n\")"
   ]
  },
  {
   "cell_type": "code",
   "execution_count": null,
   "id": "232769ec-aa20-42a8-bbfd-8c25bf4f11f7",
   "metadata": {},
   "outputs": [],
   "source": []
  }
 ],
 "metadata": {
  "kernelspec": {
   "display_name": "base",
   "language": "python",
   "name": "python3"
  },
  "language_info": {
   "codemirror_mode": {
    "name": "ipython",
    "version": 3
   },
   "file_extension": ".py",
   "mimetype": "text/x-python",
   "name": "python",
   "nbconvert_exporter": "python",
   "pygments_lexer": "ipython3",
   "version": "3.12.7"
  }
 },
 "nbformat": 4,
 "nbformat_minor": 5
}
