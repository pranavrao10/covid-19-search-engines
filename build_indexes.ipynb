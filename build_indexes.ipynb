{
 "cells": [
  {
   "cell_type": "code",
   "execution_count": null,
   "id": "4b10b548",
   "metadata": {},
   "outputs": [
    {
     "name": "stderr",
     "output_type": "stream",
     "text": [
      "Loading documents: 148752it [00:21, 6766.43it/s]\n",
      "/opt/anaconda3/lib/python3.12/site-packages/huggingface_hub/file_download.py:797: FutureWarning: `resume_download` is deprecated and will be removed in version 1.0.0. Downloads always resume when possible. If you want to force a new download, use `force_download=True`.\n",
      "  warnings.warn(\n",
      "Generating embeddings: 100%|██████████| 1163/1163 [1:30:13<00:00,  4.65s/it]\n"
     ]
    },
    {
     "name": "stdout",
     "output_type": "stream",
     "text": [
      "Precomputing complete! You can now use search_engine.py\n"
     ]
    }
   ],
   "source": [
    "import json\n",
    "import numpy as np\n",
    "import torch\n",
    "import faiss\n",
    "from rank_bm25 import BM25Okapi\n",
    "from transformers import AutoTokenizer, AutoModel\n",
    "from tqdm import tqdm\n",
    "import os\n",
    "import pickle\n",
    "\n",
    "device = \"mps\" if torch.backends.mps.is_available() else \"cuda\" if torch.cuda.is_available() else \"cpu\"\n",
    "\n",
    "def main():\n",
    "    bm25_corpus = []\n",
    "    metadata = []\n",
    "    with open('preprocessed_cord19.jsonl') as f:\n",
    "        for line in tqdm(f, desc=\"Loading documents\"):\n",
    "            doc = json.loads(line)\n",
    "            bm25_corpus.append(doc['bm25']['combined'].split())\n",
    "            metadata.append({\n",
    "                'doc_id': doc['doc_id'],\n",
    "                'original_title': doc['original_title'],\n",
    "                'biobert_text': doc['biobert']['combined']\n",
    "            })\n",
    "\n",
    "    np.save('bm25_corpus.npy', np.array(bm25_corpus, dtype=object))\n",
    "    with open('metadata.json', 'w') as f:\n",
    "        json.dump(metadata, f)\n",
    "\n",
    "    bm25 = BM25Okapi(bm25_corpus)\n",
    "    with open('bm25_model.pkl', 'wb') as f:\n",
    "        pickle.dump(bm25, f)\n",
    "\n",
    "    tokenizer = AutoTokenizer.from_pretrained(\"monologg/biobert_v1.1_pubmed\")\n",
    "    model = AutoModel.from_pretrained(\"monologg/biobert_v1.1_pubmed\").to(device)\n",
    "    \n",
    "    embeddings = []\n",
    "    batch_size = 128 if device != 'cpu' else 32\n",
    "    for i in tqdm(range(0, len(metadata), batch_size), desc=\"Generating embeddings\"):\n",
    "        batch = [m['biobert_text'] for m in metadata[i:i+batch_size]]\n",
    "        inputs = tokenizer(batch, return_tensors='pt', padding=True, truncation=True, max_length=512).to(device)\n",
    "        with torch.no_grad():\n",
    "            outputs = model(**inputs)\n",
    "        embeddings.append(outputs.last_hidden_state[:,0,:].cpu().numpy())\n",
    "    \n",
    "    full_embeddings = np.concatenate(embeddings)\n",
    "    np.save('biobert_embeddings.npy', full_embeddings)\n",
    "    \n",
    "\n",
    "if __name__ == '__main__':\n",
    "    main()\n",
    "    print(\"Precomputing complete! You can now use search_engine.py\")\n",
    "\n",
    "\n"
   ]
  },
  {
   "cell_type": "code",
   "execution_count": null,
   "id": "68a38331",
   "metadata": {},
   "outputs": [],
   "source": []
  }
 ],
 "metadata": {
  "kernelspec": {
   "display_name": "base",
   "language": "python",
   "name": "python3"
  },
  "language_info": {
   "codemirror_mode": {
    "name": "ipython",
    "version": 3
   },
   "file_extension": ".py",
   "mimetype": "text/x-python",
   "name": "python",
   "nbconvert_exporter": "python",
   "pygments_lexer": "ipython3",
   "version": "3.12.7"
  }
 },
 "nbformat": 4,
 "nbformat_minor": 5
}
