{
 "cells": [
  {
   "cell_type": "code",
   "execution_count": 1,
   "id": "b65398c9",
   "metadata": {},
   "outputs": [],
   "source": [
    "import torch\n",
    "import numpy as np\n",
    "from transformers import AutoTokenizer, AutoModel\n",
    "import pickle\n",
    "import torch.nn.utils.rnn as rnn_utils\n",
    "from sklearn.metrics.pairwise import cosine_similarity\n",
    "from collections import defaultdict\n",
    "import time\n",
    "from tqdm import tqdm"
   ]
  },
  {
   "cell_type": "code",
   "execution_count": 4,
   "id": "4222b0b0",
   "metadata": {},
   "outputs": [],
   "source": [
    "with open(\"trec_covid_preprocessed_full.pkl\", \"rb\") as f:\n",
    "    processed_records = pickle.load(f)"
   ]
  },
  {
   "cell_type": "code",
   "execution_count": 5,
   "id": "c5dd341c",
   "metadata": {},
   "outputs": [
    {
     "name": "stdout",
     "output_type": "stream",
     "text": [
      "Using device: mps\n"
     ]
    }
   ],
   "source": [
    "device = torch.device(\"mps\" if torch.backends.mps.is_available() else \"cpu\")\n",
    "print(f\"Using device: {device}\")\n",
    "\n",
    "class BioBERTReranker:\n",
    "    def __init__(self, precomputed_embeddings=None):\n",
    "        self.tokenizer = AutoTokenizer.from_pretrained(\"dmis-lab/biobert-v1.1\")\n",
    "        self.model = AutoModel.from_pretrained(\"dmis-lab/biobert-v1.1\").to(device)\n",
    "        self.model.eval()  \n",
    "        \n",
    "        self.doc_embeddings = precomputed_embeddings or {}\n",
    "        \n",
    "        self.query_cache = defaultdict(lambda: None)\n",
    "\n",
    "    def _encode_batch(self, texts, batch_size=32):\n",
    "        embeddings = []\n",
    "        for i in tqdm(range(0, len(texts), batch_size), desc=\"Processing batches\"):\n",
    "            batch = texts[i:i+batch_size]\n",
    "            inputs = self.tokenizer(\n",
    "                batch,\n",
    "                padding=True,\n",
    "                truncation=True,\n",
    "                max_length=512,\n",
    "                return_tensors=\"pt\"\n",
    "            ).to(device)\n",
    "            \n",
    "            with torch.no_grad(), torch.autocast(device_type=device.type):\n",
    "                outputs = self.model(**inputs)\n",
    "            \n",
    "            batch_embeddings = outputs.last_hidden_state[:, 0, :].cpu().numpy()\n",
    "            embeddings.append(batch_embeddings)\n",
    "        \n",
    "        return np.concatenate(embeddings, axis=0)\n",
    "\n",
    "    def precompute_document_embeddings(self, documents, batch_size=32):\n",
    "        doc_embeddings = {}\n",
    "        for doc_id, chunks in tqdm(documents.items(), desc=\"Precomputing docs\"):\n",
    "            if chunks:  \n",
    "                chunk_texts = [chunk['text'] for chunk in chunks]\n",
    "                doc_embeddings[doc_id] = self._encode_batch(chunk_texts, batch_size)\n",
    "        self.doc_embeddings = doc_embeddings\n",
    "        return doc_embeddings\n",
    "\n",
    "    def encode_query(self, query_text, batch_size=16):\n",
    "        if self.query_cache[query_text] is None:\n",
    "            self.query_cache[query_text] = self._encode_batch([query_text], batch_size)[0]\n",
    "        return self.query_cache[query_text]\n",
    "\n",
    "    def rerank(self, query_text, doc_ids, top_k=10, chunk_weight=0.9):\n",
    "        start_time = time.time()\n",
    "        \n",
    "        query_embedding = self.encode_query(query_text)\n",
    "        \n",
    "        doc_similarities = []\n",
    "        for doc_id in doc_ids:\n",
    "            if doc_id not in self.doc_embeddings:\n",
    "                continue\n",
    "                \n",
    "            chunk_embeddings = self.doc_embeddings[doc_id]\n",
    "            if len(chunk_embeddings) == 0:\n",
    "                continue\n",
    "            \n",
    "            similarities = cosine_similarity(\n",
    "                [query_embedding],\n",
    "                chunk_embeddings\n",
    "            )[0]\n",
    "            \n",
    "            max_sim = np.max(similarities)\n",
    "            avg_sim = np.mean(similarities)\n",
    "            final_score = (chunk_weight * max_sim) + ((1 - chunk_weight) * avg_sim)\n",
    "            \n",
    "            doc_similarities.append((doc_id, final_score))\n",
    "        \n",
    "        doc_similarities.sort(key=lambda x: x[1], reverse=True)\n",
    "        \n",
    "        print(f\"Reranked {len(doc_similarities)} docs in {time.time()-start_time:.2f}s\")\n",
    "        return doc_similarities[:top_k]"
   ]
  },
  {
   "cell_type": "code",
   "execution_count": 6,
   "id": "4ebe1106",
   "metadata": {},
   "outputs": [
    {
     "name": "stderr",
     "output_type": "stream",
     "text": [
      "Processing batches: 100%|██████████| 1/1 [00:00<00:00, 28.61it/s]"
     ]
    },
    {
     "name": "stdout",
     "output_type": "stream",
     "text": [
      "Reranked 0 docs in 0.04s\n",
      "Top results: []\n"
     ]
    },
    {
     "name": "stderr",
     "output_type": "stream",
     "text": [
      "\n"
     ]
    }
   ],
   "source": [
    "if __name__ == \"__main__\":\n",
    "    reranker = BioBERTReranker()\n",
    "\n",
    "    sample_query = \"COVID-19 transmission in children\"\n",
    "    candidate_doc_ids = [\"8qnrcgnk\", \"785vg6d\", \"ejv2xln0\"]  \n",
    "\n",
    "    reranked = reranker.rerank(sample_query, candidate_doc_ids)\n",
    "    print(\"Top results:\", reranked[:3])"
   ]
  },
  {
   "cell_type": "code",
   "execution_count": null,
   "id": "8aaf4a93",
   "metadata": {},
   "outputs": [],
   "source": []
  }
 ],
 "metadata": {
  "kernelspec": {
   "display_name": "base",
   "language": "python",
   "name": "python3"
  },
  "language_info": {
   "codemirror_mode": {
    "name": "ipython",
    "version": 3
   },
   "file_extension": ".py",
   "mimetype": "text/x-python",
   "name": "python",
   "nbconvert_exporter": "python",
   "pygments_lexer": "ipython3",
   "version": "3.12.7"
  }
 },
 "nbformat": 4,
 "nbformat_minor": 5
}
