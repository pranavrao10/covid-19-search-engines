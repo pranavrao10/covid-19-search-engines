{
 "cells": [
  {
   "cell_type": "code",
   "execution_count": 27,
   "id": "898c4a84-932b-4ecd-85aa-c20aa704dbd6",
   "metadata": {},
   "outputs": [
    {
     "name": "stdout",
     "output_type": "stream",
     "text": [
      "Index(['doc_id', 'cleaned_text'], dtype='object')\n",
      "     doc_id                                       cleaned_text\n",
      "0  ug7v899j  clinical features of culture-proven mycoplasma...\n",
      "1  02tnwd4m  nitric oxide: a pro-inflammatory mediator in l...\n",
      "2  ejv2xln0  surfactant protein-d and pulmonary host defens...\n",
      "3  2b73a28n  role of endothelin-1 in lung disease endotheli...\n",
      "4  9785vg6d  gene expression in epithelial cells in respons...\n"
     ]
    }
   ],
   "source": [
    "import pandas as pd\n",
    "\n",
    "# Load JSON file\n",
    "df = pd.read_json(\"Downloads/trec_covid_preprocessed_minimal.json\")\n",
    "\n",
    "# Display basic info\n",
    "print(df.columns)\n",
    "print(df.head())\n"
   ]
  },
  {
   "cell_type": "code",
   "execution_count": 29,
   "id": "c3e0d40f-cb7c-425f-8ef8-5de7a62e6585",
   "metadata": {},
   "outputs": [
    {
     "name": "stderr",
     "output_type": "stream",
     "text": [
      "[nltk_data] Downloading package punkt to /Users/aksha/nltk_data...\n",
      "[nltk_data]   Package punkt is already up-to-date!\n"
     ]
    }
   ],
   "source": [
    "import nltk\n",
    "from nltk.tokenize import word_tokenize\n",
    "from rank_bm25 import BM25Okapi\n",
    "\n",
    "nltk.download('punkt')\n",
    "\n",
    "# Lowercase and tokenize the 'cleaned_text'\n",
    "tokenized_corpus = [word_tokenize(str(text).lower()) for text in df['cleaned_text']]\n"
   ]
  },
  {
   "cell_type": "code",
   "execution_count": 31,
   "id": "ac2c6560-2d22-4b7e-93e2-0343955fdf2a",
   "metadata": {},
   "outputs": [],
   "source": [
    "bm25 = BM25Okapi(tokenized_corpus)\n"
   ]
  },
  {
   "cell_type": "code",
   "execution_count": 33,
   "id": "9d28f888-6dd4-484d-80e6-6ee1e3495716",
   "metadata": {},
   "outputs": [],
   "source": [
    "# Example query\n",
    "query = \"coronavirus transmission in healthcare settings\"\n",
    "tokenized_query = word_tokenize(query.lower())\n",
    "\n",
    "# Compute BM25 scores\n",
    "scores = bm25.get_scores(tokenized_query)\n"
   ]
  },
  {
   "cell_type": "code",
   "execution_count": 35,
   "id": "574ab969-80d1-4953-b433-f05e5a111200",
   "metadata": {},
   "outputs": [
    {
     "name": "stdout",
     "output_type": "stream",
     "text": [
      "Doc ID: usxkyiuw\n",
      "Score: 24.6732\n",
      "Content Snippet: isolation precautions for visitors to healthcare settings visitors may be involved in infection transmission within healthcare settings; however, there is currently limited published data on this subject. this chapter describes situations in which visitor-associated infection transmission occurred a...\n",
      "\n",
      "Doc ID: a7hsppj1\n",
      "Score: 24.4486\n",
      "Content Snippet: middle east respiratory syndrome coronavirus in healthcare settings. purpose of review attracting global attention, middle east respiratory syndrome coronavirus (mers-cov) continues to cause sporadic cases and a potential risk of healthcare-associated infections. in this review, we highlight what is...\n",
      "\n",
      "Doc ID: r3g6z4os\n",
      "Score: 24.0413\n",
      "Content Snippet: mathematical models of infection transmission in healthcare settings: recent advances from the use of network structured data. purpose of review mathematical modeling approaches have brought important contributions to the study of pathogen spread in healthcare settings over the last 20 years. here, ...\n",
      "\n",
      "Doc ID: v9vsthw3\n",
      "Score: 24.0247\n",
      "Content Snippet: infection control measures for the prevention of mers coronavirus transmission in healthcare settings....\n",
      "\n",
      "Doc ID: 81u4nidw\n",
      "Score: 22.8473\n",
      "Content Snippet: spatial and temporal analyses to investigate infectious disease transmission within healthcare settings summary background healthcare-associated infections (hcais) cause significant morbidity and mortality worldwide, and outbreaks are often only identified after they reach high levels. a wide range ...\n",
      "\n"
     ]
    }
   ],
   "source": [
    "import numpy as np\n",
    "\n",
    "# Get indices of top 5 documents\n",
    "top_n = np.argsort(scores)[::-1][:5]\n",
    "\n",
    "# Display the top documents\n",
    "for idx in top_n:\n",
    "    print(f\"Doc ID: {df.iloc[idx]['doc_id']}\")\n",
    "    print(f\"Score: {scores[idx]:.4f}\")\n",
    "    print(f\"Content Snippet: {df.iloc[idx]['cleaned_text'][:300]}...\\n\")\n"
   ]
  },
  {
   "cell_type": "code",
   "execution_count": null,
   "id": "cb1015bf-5abf-4fc8-8430-5c829c68a3a5",
   "metadata": {},
   "outputs": [],
   "source": []
  }
 ],
 "metadata": {
  "kernelspec": {
   "display_name": "Python 3 (ipykernel)",
   "language": "python",
   "name": "python3"
  },
  "language_info": {
   "codemirror_mode": {
    "name": "ipython",
    "version": 3
   },
   "file_extension": ".py",
   "mimetype": "text/x-python",
   "name": "python",
   "nbconvert_exporter": "python",
   "pygments_lexer": "ipython3",
   "version": "3.12.4"
  }
 },
 "nbformat": 4,
 "nbformat_minor": 5
}
